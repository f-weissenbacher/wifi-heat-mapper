{
 "cells": [
  {
   "cell_type": "code",
   "execution_count": 1,
   "id": "cd62733d-53b9-42b5-9904-6299e6b23eb2",
   "metadata": {},
   "outputs": [],
   "source": [
    "import subprocess as sp"
   ]
  },
  {
   "cell_type": "code",
   "execution_count": 2,
   "id": "e5236c6d-a7ef-436a-ac09-911b55ab6325",
   "metadata": {},
   "outputs": [],
   "source": [
    "from wifi_heat_mapper.misc import get_application_output\n",
    "import pandas as pd\n",
    "from io import StringIO"
   ]
  },
  {
   "cell_type": "code",
   "execution_count": 3,
   "id": "66b5029f-f54a-46e6-add2-1ac4d35b623e",
   "metadata": {},
   "outputs": [],
   "source": [
    "wifi_interface = \"Intel(R) Dual Band Wireless-AC 8260\""
   ]
  },
  {
   "cell_type": "code",
   "execution_count": 4,
   "id": "af72185f-1238-4f9e-8608-3b48cf307b7c",
   "metadata": {},
   "outputs": [
    {
     "name": "stdout",
     "output_type": "stream",
     "text": [
      "\n",
      "Ethernet        Intel(R) Ethern 18-60-24-46-B0-A6   Medien ausgeworfen                                        \n",
      "WLAN            Intel(R) Dual B E4-A7-A0-20-E0-68   Nicht zutreffend                                          \n",
      "ZeroTier One [8 ZeroTier Virtua FA-A7-68-15-E4-4B   Nicht zutreffend                                          \n",
      "Ethernet 2      Fortinet Virtua 00-09-0F-FE-00-01   Medien ausgeworfen                                        \n",
      "Ethernet 3      Fortinet SSL VP Nicht zutreffend    Hardware nicht vorhanden                                  \n",
      "LAN-Verbindung  PPPoP WAN Adapt Deaktiviert         Verbindung getrennt                                       \n",
      "vEthernet (Defa Hyper-V Virtual 00-15-5D-E6-E4-DB   Nicht zutreffend                                          \n",
      "vEthernet (WSL) Hyper-V Virtual 00-15-5D-80-C4-A9   Nicht zutreffend                                          \n"
     ]
    }
   ],
   "source": [
    "!getmac /FO TABLE /NH /V"
   ]
  },
  {
   "cell_type": "code",
   "execution_count": null,
   "id": "c55d84a6-b2bb-4bf9-bdad-4abafcdfcead",
   "metadata": {},
   "outputs": [],
   "source": []
  },
  {
   "cell_type": "code",
   "execution_count": 5,
   "id": "ed8ebdf3-4836-44e4-b4f4-33e2ca03ca00",
   "metadata": {},
   "outputs": [
    {
     "name": "stdout",
     "output_type": "stream",
     "text": [
      "Aktive Codepage: 65001.\n",
      "\n",
      "Es ist 1 Schnittstelle auf dem System vorhanden:\n",
      "\n",
      "    Name                   : WLAN\n",
      "    Beschreibung           : Intel(R) Dual Band Wireless-AC 8260\n",
      "    GUID                   : a17ab2ae-494f-44c8-8d9e-81c1b031475b\n",
      "    Physische Adresse      : e4:a7:a0:20:e0:68\n",
      "    Status                 : Verbunden\n",
      "    SSID                   : Berghaus-Glockner\n",
      "    BSSID                  : f4:06:8d:96:a2:60\n",
      "    Netzwerktyp            : Infrastruktur\n",
      "    Funktyp                   : 802.11n\n",
      "    Authentifizierung   : WPA2-Personal\n",
      "    VerschlÃ¼sselung        : CCMP\n",
      "    Verbindungsmodus          : Automat. Verbindung\n",
      "    Kanal               : 6\n",
      "    Empfangsrate (MBit/s)  : 86.7\n",
      "    Ãœbertragungsrate (MBit/s) : 86.7\n",
      "    Signal              : 84% \n",
      "    Profil                 : Berghaus-Glockner \n",
      "\n",
      "    Status des gehosteten Netzwerks  : Nicht verfÃ¼gbar\n",
      "\n"
     ]
    }
   ],
   "source": [
    "!chcp 65001 & netsh wlan show interfaces"
   ]
  },
  {
   "cell_type": "code",
   "execution_count": null,
   "id": "87533f19-200f-45ac-8289-8e7cd244ec6b",
   "metadata": {},
   "outputs": [],
   "source": [
    "mac_df = pd.read_csv(StringIO(get_application_output(\"getmac /FO CSV /V\")))"
   ]
  },
  {
   "cell_type": "code",
   "execution_count": null,
   "id": "4ceacb85-d5f5-428c-a7bd-e29ae95a5fa0",
   "metadata": {},
   "outputs": [],
   "source": [
    "mac_df.set_index(mac_df.columns[1], drop=True, inplace=True)"
   ]
  },
  {
   "cell_type": "code",
   "execution_count": null,
   "id": "301e7933-3a47-4043-93da-bad9d38ea38b",
   "metadata": {},
   "outputs": [],
   "source": [
    "mac_df2.drop(columns=[mac_df2.columns[1]], inplace=True)"
   ]
  },
  {
   "cell_type": "code",
   "execution_count": null,
   "id": "63d7c198-7fa8-472e-949f-0fa9af921ba2",
   "metadata": {},
   "outputs": [],
   "source": [
    "mac_df"
   ]
  },
  {
   "cell_type": "code",
   "execution_count": null,
   "id": "2c8d9d3b-e975-4fc0-aa6c-4e532fccb038",
   "metadata": {},
   "outputs": [],
   "source": [
    "if wifi_interface not in mac_df.index:\n",
    "    print(f\"Wifi interface '{wifi_interface}' not in list of known network adapters\")\n",
    "else:\n",
    "    mac_address = mac_df.loc[wifi_interface,:].iloc[1]\n",
    "    conection_name = mac_df.loc[wifi_interace,:].iloc[0]\n",
    "    print(f\"Interface '{wifi_interface}' has MAC address {mac_address}\") "
   ]
  },
  {
   "cell_type": "code",
   "execution_count": 10,
   "id": "bc90fa4b-0e56-48e5-be97-cebd6322c229",
   "metadata": {},
   "outputs": [],
   "source": [
    "netsh_output = sp.run(\"chsp 65001 & netsh wlan show interfaces\", capture_output=True, text=False, shell=True).stdout"
   ]
  },
  {
   "cell_type": "code",
   "execution_count": 9,
   "id": "2278d977-1e7d-4e3c-ae14-748590a09e40",
   "metadata": {},
   "outputs": [
    {
     "data": {
      "text/plain": [
       "CompletedProcess(args='chcp 65001', returncode=0)"
      ]
     },
     "execution_count": 9,
     "metadata": {},
     "output_type": "execute_result"
    }
   ],
   "source": [
    "sp.run(\"chcp 65001\", shell=True)"
   ]
  },
  {
   "cell_type": "code",
   "execution_count": 11,
   "id": "6f833ff7-470c-4cdc-b4c6-30df2af8a904",
   "metadata": {},
   "outputs": [
    {
     "data": {
      "text/plain": [
       "b'\\r\\nEs ist 1 Schnittstelle auf dem System vorhanden:\\r\\n\\r\\n    Name                   : WLAN\\r\\n    Beschreibung           : Intel(R) Dual Band Wireless-AC 8260\\r\\n    GUID                   : a17ab2ae-494f-44c8-8d9e-81c1b031475b\\r\\n    Physische Adresse      : e4:a7:a0:20:e0:68\\r\\n    Status                 : Verbunden\\r\\n    SSID                   : Berghaus-Glockner\\r\\n    BSSID                  : f4:06:8d:96:a2:61\\r\\n    Netzwerktyp            : Infrastruktur\\r\\n    Funktyp                   : 802.11ac\\r\\n    Authentifizierung   : WPA2-Personal\\r\\n    Verschl\\xc3\\xbcsselung        : CCMP\\r\\n    Verbindungsmodus          : Automat. Verbindung\\r\\n    Kanal               : 108\\r\\n    Empfangsrate (MBit/s)  : 351\\r\\n    \\xc3\\x9cbertragungsrate (MBit/s) : 351\\r\\n    Signal              : 52% \\r\\n    Profil                 : Berghaus-Glockner \\r\\n\\r\\n    Status des gehosteten Netzwerks  : Nicht verf\\xc3\\xbcgbar\\r\\n\\r\\n'"
      ]
     },
     "execution_count": 11,
     "metadata": {},
     "output_type": "execute_result"
    }
   ],
   "source": [
    "netsh_output"
   ]
  },
  {
   "cell_type": "code",
   "execution_count": 12,
   "id": "1b42a65b-e3b6-4f5a-951f-a5a975d92c0b",
   "metadata": {},
   "outputs": [
    {
     "data": {
      "text/plain": [
       "'\\r\\nEs ist 1 Schnittstelle auf dem System vorhanden:\\r\\n\\r\\n    Name                   : WLAN\\r\\n    Beschreibung           : Intel(R) Dual Band Wireless-AC 8260\\r\\n    GUID                   : a17ab2ae-494f-44c8-8d9e-81c1b031475b\\r\\n    Physische Adresse      : e4:a7:a0:20:e0:68\\r\\n    Status                 : Verbunden\\r\\n    SSID                   : Berghaus-Glockner\\r\\n    BSSID                  : f4:06:8d:96:a2:61\\r\\n    Netzwerktyp            : Infrastruktur\\r\\n    Funktyp                   : 802.11ac\\r\\n    Authentifizierung   : WPA2-Personal\\r\\n    Verschlüsselung        : CCMP\\r\\n    Verbindungsmodus          : Automat. Verbindung\\r\\n    Kanal               : 108\\r\\n    Empfangsrate (MBit/s)  : 351\\r\\n    Übertragungsrate (MBit/s) : 351\\r\\n    Signal              : 52% \\r\\n    Profil                 : Berghaus-Glockner \\r\\n\\r\\n    Status des gehosteten Netzwerks  : Nicht verfügbar\\r\\n\\r\\n'"
      ]
     },
     "execution_count": 12,
     "metadata": {},
     "output_type": "execute_result"
    }
   ],
   "source": [
    "netsh_output.decode(\"utf-8\")"
   ]
  },
  {
   "cell_type": "code",
   "execution_count": 15,
   "id": "243ab4ca-0399-4b42-8974-317cd7563529",
   "metadata": {},
   "outputs": [
    {
     "name": "stdout",
     "output_type": "stream",
     "text": [
      "\n",
      "Es ist 1 Schnittstelle auf dem System vorhanden:\n",
      "\n",
      "    Name                   : WLAN\n",
      "    Beschreibung           : Intel(R) Dual Band Wireless-AC 8260\n",
      "    GUID                   : a17ab2ae-494f-44c8-8d9e-81c1b031475b\n",
      "    Physische Adresse      : e4:a7:a0:20:e0:68\n",
      "    Status                 : Verbunden\n",
      "    SSID                   : Berghaus-Glockner\n",
      "    BSSID                  : f4:06:8d:96:a2:61\n",
      "    Netzwerktyp            : Infrastruktur\n",
      "    Funktyp                   : 802.11ac\n",
      "    Authentifizierung   : WPA2-Personal\n",
      "    Verschlüsselung        : CCMP\n",
      "    Verbindungsmodus          : Automat. Verbindung\n",
      "    Kanal               : 108\n",
      "    Empfangsrate (MBit/s)  : 351\n",
      "    Übertragungsrate (MBit/s) : 351\n",
      "    Signal              : 52% \n",
      "    Profil                 : Berghaus-Glockner \n",
      "\n",
      "    Status des gehosteten Netzwerks  : Nicht verfügbar\n",
      "\n",
      "\n"
     ]
    }
   ],
   "source": [
    "print(netsh_output.decode(\"utf-8\"))"
   ]
  },
  {
   "cell_type": "code",
   "execution_count": 3,
   "id": "9003ea16-a2dd-4660-99de-7c1daad12287",
   "metadata": {},
   "outputs": [],
   "source": [
    "netsh_output = get_application_output(\"chcp 65001 & netsh wlan show interface WLAN\", shell=True)"
   ]
  },
  {
   "cell_type": "code",
   "execution_count": 4,
   "id": "2efc1abe-e247-410e-8d74-60919b30ee42",
   "metadata": {},
   "outputs": [
    {
     "name": "stdout",
     "output_type": "stream",
     "text": [
      "Aktive Codepage: 65001.\n",
      "\n",
      "Es ist 1 Schnittstelle auf dem System vorhanden:\n",
      "\n",
      "    Name                   : WLAN\n",
      "    Beschreibung           : Intel(R) Dual Band Wireless-AC 8260\n",
      "    GUID                   : a17ab2ae-494f-44c8-8d9e-81c1b031475b\n",
      "    Physische Adresse      : e4:a7:a0:20:e0:68\n",
      "    Status                 : Verbunden\n",
      "    SSID                   : Berghaus-Glockner\n",
      "    BSSID                  : f4:06:8d:8f:d4:55\n",
      "    Netzwerktyp            : Infrastruktur\n",
      "    Funktyp                   : 802.11n\n",
      "    Authentifizierung   : WPA2-Personal\n",
      "    VerschlÃ¼sselung        : CCMP\n",
      "    Verbindungsmodus          : Automat. Verbindung\n",
      "    Kanal               : 1\n",
      "    Empfangsrate (MBit/s)  : 117\n",
      "    Ãœbertragungsrate (MBit/s) : 117\n",
      "    Signal              : 83% \n",
      "    Profil                 : Berghaus-Glockner \n",
      "\n",
      "    Status des gehosteten Netzwerks  : Nicht verfÃ¼gbar\n",
      "\n",
      "\n"
     ]
    }
   ],
   "source": [
    "print(netsh_output)"
   ]
  },
  {
   "cell_type": "code",
   "execution_count": 13,
   "id": "70347235-b4b7-4216-b545-c9f58a8d76c2",
   "metadata": {},
   "outputs": [
    {
     "name": "stdout",
     "output_type": "stream",
     "text": [
      "\n",
      "\n",
      "Name                 : WLAN\n",
      "InterfaceName        : wireless_32768\n",
      "InterfaceDescription : Intel(R) Dual Band Wireless-AC 8260\n",
      "InterfaceIndex       : 18\n",
      "MacAddress           : E4-A7-A0-20-E0-68\n",
      "\n",
      "Name                 : Ethernet\n",
      "InterfaceName        : ethernet_32768\n",
      "InterfaceDescription : Intel(R) Ethernet Connection I219-V\n",
      "InterfaceIndex       : 3\n",
      "MacAddress           : 18-60-24-46-B0-A6\n",
      "\n",
      "\n",
      "\n",
      "\n"
     ]
    }
   ],
   "source": [
    "wifi_infos =  get_application_output(\"powershell Get-NetAdapter -Physical | Format-List -Property Name,InterfaceName,InterfaceDescription,InterfaceIndex,MacAddress\")\n",
    "print(wifi_infos)"
   ]
  },
  {
   "cell_type": "code",
   "execution_count": 14,
   "id": "88006381-ed28-4b3a-8f73-6058911d3d77",
   "metadata": {},
   "outputs": [],
   "source": [
    "wifi_infos2 = get_application_output(\"powershell Get-WifiInterfaces\")"
   ]
  },
  {
   "cell_type": "code",
   "execution_count": 28,
   "id": "427ae912-fd2a-4a72-84f4-6dfb90aea6aa",
   "metadata": {},
   "outputs": [],
   "source": [
    "wifi_info3 = get_application_output(\"chcp 65001 > nul & netsh wlan show interface WLAN\", shell=True)"
   ]
  },
  {
   "cell_type": "code",
   "execution_count": 29,
   "id": "7bcfcbc5-afbe-4cb0-a067-3008c996913e",
   "metadata": {},
   "outputs": [
    {
     "data": {
      "text/plain": [
       "'\\nEs ist 1 Schnittstelle auf dem System vorhanden:\\n\\n    Name                   : WLAN\\n    Beschreibung           : Intel(R) Dual Band Wireless-AC 8260\\n    GUID                   : a17ab2ae-494f-44c8-8d9e-81c1b031475b\\n    Physische Adresse      : e4:a7:a0:20:e0:68\\n    Status                 : Verbunden\\n    SSID                   : Berghaus-Glockner\\n    BSSID                  : f4:06:8d:96:a2:60\\n    Netzwerktyp            : Infrastruktur\\n    Funktyp                   : 802.11n\\n    Authentifizierung   : WPA2-Personal\\n    VerschlÃ¼sselung        : CCMP\\n    Verbindungsmodus          : Automat. Verbindung\\n    Kanal               : 6\\n    Empfangsrate (MBit/s)  : 78\\n    Ãœbertragungsrate (MBit/s) : 78\\n    Signal              : 69% \\n    Profil                 : Berghaus-Glockner \\n\\n    Status des gehosteten Netzwerks  : Nicht verfÃ¼gbar\\n\\n'"
      ]
     },
     "execution_count": 29,
     "metadata": {},
     "output_type": "execute_result"
    }
   ],
   "source": [
    "wifi_info3"
   ]
  },
  {
   "cell_type": "code",
   "execution_count": 25,
   "id": "76885852-4efa-4384-bc65-824e6a396c63",
   "metadata": {},
   "outputs": [],
   "source": [
    "def clean_list_output(raw_output):\n",
    "    output = raw_output.splitlines()\n",
    "    output = [kv for kv in output if kv != \"\"]\n",
    "    kv_output = [kv.split(\":\", 1) for kv in output]\n",
    "    kv_output = [(kv[0].strip(), kv[1].strip()) for kv in kv_output]\n",
    "    return kv_output"
   ]
  },
  {
   "cell_type": "code",
   "execution_count": 30,
   "id": "5fccf053-2662-4dfb-a2fd-fe38f4606d3a",
   "metadata": {
    "tags": []
   },
   "outputs": [
    {
     "data": {
      "text/plain": [
       "[('Es ist 1 Schnittstelle auf dem System vorhanden', ''),\n",
       " ('Name', 'WLAN'),\n",
       " ('Beschreibung', 'Intel(R) Dual Band Wireless-AC 8260'),\n",
       " ('GUID', 'a17ab2ae-494f-44c8-8d9e-81c1b031475b'),\n",
       " ('Physische Adresse', 'e4:a7:a0:20:e0:68'),\n",
       " ('Status', 'Verbunden'),\n",
       " ('SSID', 'Berghaus-Glockner'),\n",
       " ('BSSID', 'f4:06:8d:96:a2:60'),\n",
       " ('Netzwerktyp', 'Infrastruktur'),\n",
       " ('Funktyp', '802.11n'),\n",
       " ('Authentifizierung', 'WPA2-Personal'),\n",
       " ('VerschlÃ¼sselung', 'CCMP'),\n",
       " ('Verbindungsmodus', 'Automat. Verbindung'),\n",
       " ('Kanal', '6'),\n",
       " ('Empfangsrate (MBit/s)', '78'),\n",
       " ('Ãœbertragungsrate (MBit/s)', '78'),\n",
       " ('Signal', '69%'),\n",
       " ('Profil', 'Berghaus-Glockner'),\n",
       " ('Status des gehosteten Netzwerks', 'Nicht verfÃ¼gbar')]"
      ]
     },
     "execution_count": 30,
     "metadata": {},
     "output_type": "execute_result"
    }
   ],
   "source": [
    "clean_list_output(wifi_info3)"
   ]
  },
  {
   "cell_type": "code",
   "execution_count": 12,
   "id": "183c34fe-e766-4ecb-8873-2362f6169c78",
   "metadata": {},
   "outputs": [],
   "source": [
    "wifi_info4 = wifi_info3.splitlines()[3:-3]\n",
    "wifi_info5 = [line.split(\":\", 1) for line in wifi_info4]"
   ]
  },
  {
   "cell_type": "code",
   "execution_count": 16,
   "id": "b759839c-5cca-4e4a-ad8c-e79a65ad87e1",
   "metadata": {},
   "outputs": [
    {
     "data": {
      "text/plain": [
       "[('Name', 'WLAN'),\n",
       " ('Beschreibung', 'Intel(R) Dual Band Wireless-AC 8260'),\n",
       " ('GUID', 'a17ab2ae-494f-44c8-8d9e-81c1b031475b'),\n",
       " ('Physische Adresse', 'e4:a7:a0:20:e0:68'),\n",
       " ('Status', 'Verbunden'),\n",
       " ('SSID', 'Berghaus-Glockner'),\n",
       " ('BSSID', 'f4:06:8d:96:a2:60'),\n",
       " ('Netzwerktyp', 'Infrastruktur'),\n",
       " ('Funktyp', '802.11n'),\n",
       " ('Authentifizierung', 'WPA2-Personal'),\n",
       " ('VerschlÃ¼sselung', 'CCMP'),\n",
       " ('Verbindungsmodus', 'Automat. Verbindung'),\n",
       " ('Kanal', '6'),\n",
       " ('Empfangsrate (MBit/s)', '72.2'),\n",
       " ('Ãœbertragungsrate (MBit/s)', '72.2'),\n",
       " ('Signal', '83%'),\n",
       " ('Profil', 'Berghaus-Glockner')]"
      ]
     },
     "execution_count": 16,
     "metadata": {},
     "output_type": "execute_result"
    }
   ],
   "source": [
    "wifi_info6 = [(kv[0].strip(), kv[1].strip()) for kv in wifi_info5]\n",
    "wifi_info6"
   ]
  },
  {
   "cell_type": "code",
   "execution_count": 17,
   "id": "142a8d81-a807-4f0d-b900-429f8baeccb4",
   "metadata": {},
   "outputs": [],
   "source": [
    "results = {}\n",
    "results[\"interface\"] = \n",
    "results[\"interface_mac\"] = re.findall(r\"([0-9a-fA-F]{2}[:]){5}([0-9a-fA-F]{2})\", iw_info)[0]\n",
    "tmp = re.findall(r\"(?<=channel )(.*?)(?=\\,)\", iw_info)[0].split(\" \")\n",
    "results[\"channel\"] = int(tmp[0])\n",
    "results[\"channel_frequency\"] = int(tmp[1].replace(\"(\", \"\"))\n",
    "results[\"ssid\"] = re.findall(r\"(?<=ssid )(.*)\", iw_info)[0]\n",
    "iw_info = get_application_output([\"iw {0} station dump\".format(target_interface)],\n",
    "                                 shell=True, timeout=10).replace(\"\\t\", \" \")\n",
    "results[\"ssid_mac\"] = re.findall(r\"(?<=Station )(.*)(?= \\()\", iw_info)[0]\n",
    "results[\"signal_strength\"] = int(re.findall(r\"(?<=signal avg: )(.*)\", iw_info)[0].split(\" \")[0])"
   ]
  },
  {
   "cell_type": "code",
   "execution_count": null,
   "id": "840508fb-ec31-4582-87e7-d24ccc6003eb",
   "metadata": {},
   "outputs": [],
   "source": [
    "wifi_dict['']"
   ]
  }
 ],
 "metadata": {
  "kernelspec": {
   "display_name": "Python 3 (ipykernel)",
   "language": "python",
   "name": "python3"
  },
  "language_info": {
   "codemirror_mode": {
    "name": "ipython",
    "version": 3
   },
   "file_extension": ".py",
   "mimetype": "text/x-python",
   "name": "python",
   "nbconvert_exporter": "python",
   "pygments_lexer": "ipython3",
   "version": "3.9.7"
  }
 },
 "nbformat": 4,
 "nbformat_minor": 5
}
